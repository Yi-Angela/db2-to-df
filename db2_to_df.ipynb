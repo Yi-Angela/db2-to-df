{
 "cells": [
  {
   "cell_type": "code",
   "execution_count": 1,
   "metadata": {},
   "outputs": [],
   "source": [
    "import pandas as pd\n",
    "import ibm_db\n",
    "import ibm_db_dbi"
   ]
  },
  {
   "cell_type": "code",
   "execution_count": 2,
   "metadata": {},
   "outputs": [],
   "source": [
    "# Enter the values for you database connection. This can be found in DB2's Service Credentials from the tooling. \n",
    "dsn_database = \"XXXXXXXX\"            # e.g. \"MORTGAGE\"\n",
    "dsn_uid      = \"XXXXXXXX\"            # e.g. \"dash104434\"\n",
    "dsn_pwd      = \"XXXXXXXX\"            # e.g. \"7dBZ3jWt9xN6$o0JiX!m\"\n",
    "dsn_hostname = \"XXXXXXXX\"            # e.g. \"Use the same IP as Web Console\"\n",
    "dsn_port     = \"50000\"               # e.g. \"50000\" \n",
    "dsn_protocol = \"TCPIP\"               # i.e. \"TCPIP\"\n",
    "dsn_driver   = \"IBM DB2 ODBC DRIVER\" # Don't change"
   ]
  },
  {
   "cell_type": "code",
   "execution_count": 3,
   "metadata": {},
   "outputs": [],
   "source": [
    "dsn = (\"DRIVER={{IBM DB2 ODBC DRIVER}};\" \"DATABASE={0};\" \"HOSTNAME={1};\" \"PORT={2};\" \"PROTOCOL=TCPIP;\" \"UID={3};\" \"PWD={4};SECURITY=SSL\").format(dsn_database, dsn_hostname, dsn_port, dsn_uid, dsn_pwd)\n",
    "options = { ibm_db.SQL_ATTR_AUTOCOMMIT:  ibm_db.SQL_AUTOCOMMIT_ON }\n",
    "connection = ibm_db_dbi.connect(dsn, dsn_uid, dsn_pwd, dsn_hostname, dsn_database, options)"
   ]
  },
  {
   "cell_type": "code",
   "execution_count": 4,
   "metadata": {},
   "outputs": [],
   "source": [
    "readSQL = 'SELECT * FROM NAME_AGE_WEIGHT'"
   ]
  },
  {
   "cell_type": "code",
   "execution_count": 5,
   "metadata": {},
   "outputs": [],
   "source": [
    "selectSQL = 'SELECT * FROM NAME_AGE_WEIGHT WHERE NAME = \\'Mike\\''"
   ]
  },
  {
   "cell_type": "code",
   "execution_count": 6,
   "metadata": {},
   "outputs": [],
   "source": [
    "df_all = pd.read_sql(readSQL, connection)"
   ]
  },
  {
   "cell_type": "code",
   "execution_count": 7,
   "metadata": {},
   "outputs": [
    {
     "name": "stdout",
     "output_type": "stream",
     "text": [
      "     NAME  AGE  WEIGHT\n",
      "0    Mike   56   100.8\n",
      "1  Robert   34   210.9\n",
      "2   Amber   45   105.6\n",
      "3    Anna   23   204.8\n"
     ]
    }
   ],
   "source": [
    "print(df_all)"
   ]
  },
  {
   "cell_type": "code",
   "execution_count": 8,
   "metadata": {},
   "outputs": [],
   "source": [
    "df_mike = pd.read_sql(selectSQL, connection)"
   ]
  },
  {
   "cell_type": "code",
   "execution_count": 9,
   "metadata": {},
   "outputs": [
    {
     "name": "stdout",
     "output_type": "stream",
     "text": [
      "   NAME  AGE  WEIGHT\n",
      "0  Mike   56   100.8\n"
     ]
    }
   ],
   "source": [
    "print(df_mike)"
   ]
  },
  {
   "cell_type": "code",
   "execution_count": 10,
   "metadata": {},
   "outputs": [
    {
     "data": {
      "text/plain": [
       "True"
      ]
     },
     "execution_count": 10,
     "metadata": {},
     "output_type": "execute_result"
    }
   ],
   "source": [
    "connection.close()"
   ]
  }
 ],
 "metadata": {
  "kernelspec": {
   "display_name": "Python 3",
   "language": "python",
   "name": "python3"
  },
  "language_info": {
   "codemirror_mode": {
    "name": "ipython",
    "version": 3
   },
   "file_extension": ".py",
   "mimetype": "text/x-python",
   "name": "python",
   "nbconvert_exporter": "python",
   "pygments_lexer": "ipython3",
   "version": "3.8.5"
  }
 },
 "nbformat": 4,
 "nbformat_minor": 1
}
